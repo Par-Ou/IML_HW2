{
 "cells": [
  {
   "cell_type": "markdown",
   "id": "5f42a3ce",
   "metadata": {},
   "source": [
    "<h1 align=\"center\">Introduction to Machine Learning - 25737-2</h1>\n",
    "<h4 align=\"center\">Dr. R. Amiri</h4>\n",
    "<h4 align=\"center\">Sharif University of Technology, Spring 2024</h4>\n",
    "\n",
    "\n",
    "**<font color='red'>Plagiarism is strongly prohibited!</font>**\n",
    "\n",
    "\n",
    "**Student Name**: Parmida Oujaghi\n",
    "\n",
    "**Student ID**: 400100779\n",
    "\n",
    "\n",
    "\n"
   ]
  },
  {
   "cell_type": "markdown",
   "id": "a01c559e",
   "metadata": {},
   "source": [
    "## Importing Libraries\n",
    "\n",
    "First we import libraries that we need for this assignment."
   ]
  },
  {
   "cell_type": "code",
   "execution_count": 1,
   "id": "0423187e",
   "metadata": {},
   "outputs": [],
   "source": [
    "import numpy as np\n",
    "import pandas as pd\n",
    "import matplotlib.pyplot as plt\n",
    "\n",
    "# import any other libraries needed below\n",
    "\n",
    "from sklearn.preprocessing import StandardScaler\n",
    "from numpy import exp,array\n",
    "from sklearn.model_selection import train_test_split\n",
    "from sklearn.naive_bayes import GaussianNB\n",
    "from sklearn.metrics import accuracy_score\n",
    "from sklearn.discriminant_analysis import LinearDiscriminantAnalysis\n",
    "from sklearn.metrics import accuracy_score\n",
    "from scipy.special import expit\n"
   ]
  },
  {
   "cell_type": "markdown",
   "id": "2f795731",
   "metadata": {},
   "source": [
    "## Reading Data and Preprocessing\n",
    "\n",
    "In this section, we want to read data from a CSV file and then preprocess it to make it ready for the rest of the problem.\n",
    "\n",
    "First, we read the data in the cell below and extract an $m \\times n$ matrix, $X$, and an $m \\times 1$ vector, $Y$, from it, which represent our knowledge about the features of the data (`X1`, `X2`, `X3`) and the class (`Y`), respectively. Note that by $m$, we mean the number of data points and by $n$, we mean the number of features."
   ]
  },
  {
   "cell_type": "code",
   "execution_count": 2,
   "id": "410e750d",
   "metadata": {},
   "outputs": [
    {
     "name": "stdout",
     "output_type": "stream",
     "text": [
      "(10000, 3)\n",
      "(10000,)\n"
     ]
    }
   ],
   "source": [
    "X, Y = None, None\n",
    "\n",
    "### START CODE HERE ###\n",
    "df = pd.read_csv('data_logistic.csv')\n",
    "X, Y = df.iloc[:, :-1], df.iloc[:, -1]\n",
    "### END CODE HERE ###\n",
    "\n",
    "print(X.shape)\n",
    "print(Y.shape)\n",
    "if(df.isnull().values.any()):\n",
    "    print(\"empty value\")"
   ]
  },
  {
   "cell_type": "markdown",
   "id": "866734e2",
   "metadata": {},
   "source": [
    "Next, we should normalize our data. For normalizing a vector $\\mathbf{x}$, a very common method is to use this formula:\n",
    "\n",
    "$$\n",
    "\\mathbf{x}_{norm} = \\dfrac{\\mathbf{x} - \\overline{\\mathbf{x}}}{\\sigma_\\mathbf{x}}\n",
    "$$\n",
    "\n",
    "Here, $\\overline{x}$ and $\\sigma_\\mathbf{x}$ denote the mean and standard deviation of vector $\\mathbf{x}$, respectively. Use this formula and store the new $X$ and $Y$ vectors in the cell below.\n",
    "\n",
    "**Question**: Briefly explain why we need to normalize our data before starting the training.\n",
    "\n",
    "**Answer**:\n",
    "\n",
    "1-To remove the impact of scale: Data can have vastly different scales and ranges, which can create issues in analysis and modeling. Normalization helps to remove the impact of scale and put all features on the same scale.\n",
    "2-To improve the performance of models: Normalizing the data can lead to faster training and better performance of the model.\n",
    "3-To address skewness in the data: Normalization in machine learning can help to address skewness in the data, which can be caused by outliers or by the data being distributed in a non-normal way.\n",
    "4-To improve the interpretability of the data: Normalization can make the data more interpretable and easier to understand. By putting all features on the same scale, it can be easier to see the relationships between different variables and make meaningful comparisons."
   ]
  },
  {
   "cell_type": "code",
   "execution_count": 3,
   "id": "9e757eb0",
   "metadata": {},
   "outputs": [],
   "source": [
    "### START CODE HERE ###\n",
    "\n",
    "scaler = StandardScaler()\n",
    "X = scaler.fit_transform(X)\n",
    "\n",
    "### END CODE HERE ###"
   ]
  },
  {
   "cell_type": "markdown",
   "id": "5465bfa4",
   "metadata": {},
   "source": [
    "Finally, we should add a column of $1$s at the beginning of $X$ to represent the bias term. Do this in the next cell. Note that after this process, $X$ should be an $m \\times (n+1)$ matrix."
   ]
  },
  {
   "cell_type": "code",
   "execution_count": 4,
   "id": "b9a60f1f",
   "metadata": {},
   "outputs": [
    {
     "name": "stdout",
     "output_type": "stream",
     "text": [
      "(10000, 4)\n"
     ]
    }
   ],
   "source": [
    "### START CODE HERE ###\n",
    "X = np.hstack((np.ones((X.shape[0], 1)), X))\n",
    "### END CODE HERE ###\n",
    "\n",
    "print(X.shape)"
   ]
  },
  {
   "cell_type": "markdown",
   "id": "5cdf0d78",
   "metadata": {},
   "source": [
    "## Training Model"
   ]
  },
  {
   "cell_type": "markdown",
   "id": "c8714abe",
   "metadata": {},
   "source": [
    "### Sigmoid Function\n",
    "You should begin by implementing the $\\sigma(\\mathbf{x})$ function. Recall that the logistic regression hypothesis $\\mathcal{h}()$ is defined as:\n",
    "$$\n",
    "\\mathcal{h}_{\\theta}(\\mathbf{x}) = \\mathcal{g}(\\theta^\\mathbf{T}\\mathbf{x})\n",
    "$$\n",
    "where $\\mathcal{g}()$ is the sigmoid function as:\n",
    "$$\n",
    "\\mathcal{g}(\\mathbf{z}) = \\frac{1}{1+exp^{-\\mathbf{z}}}\n",
    "$$\n",
    "The Sigmoid function has the property that $\\mathbf{g}(+\\infty)\\approx 1$ and $\\mathcal{g}(−\\infty)\\approx0$. Test your function by calling `sigmoid(z)` on different test samples. Be certain that your sigmoid function works with both vectors and matrices - for either a vector or a matrix, your function should perform the sigmoid function on every element."
   ]
  },
  {
   "cell_type": "code",
   "execution_count": 5,
   "id": "6a6b6ae4",
   "metadata": {},
   "outputs": [],
   "source": [
    "def sigmoid(Z):\n",
    "    '''\n",
    "    Applies the sigmoid function on every element of Z\n",
    "    Arguments:\n",
    "        Z can be a (n,) vector or (n , m) matrix\n",
    "    Returns:\n",
    "        A vector/matrix, same shape with Z, that has the sigmoid function applied elementwise\n",
    "    '''\n",
    "    ### START CODE HERE ###\n",
    "    #g = 1 / (1 + np.exp(-Z))\n",
    "    return expit(Z)\n",
    "    ### END CODE HERE ###"
   ]
  },
  {
   "cell_type": "markdown",
   "id": "83846074",
   "metadata": {},
   "source": [
    "### Cost Function \n",
    "Implement the functions to compute the cost function. Recall the cost function for logistic regression is a scalar value given by:\n",
    "$$\n",
    "\\mathcal{J}(\\theta) = \\sum_{i=1}^{n}[-y^{(i)}\\log{(\\mathcal{h}_\\theta(\\mathbf{x}^{(i)}))}-(1-y^{(i)})\\log{(1-\\mathcal{h}_\\theta(\\mathbf{x}^{(i)}))}] + \\frac{\\lambda}{2}||\\theta||_2^2\n",
    "$$"
   ]
  },
  {
   "cell_type": "code",
   "execution_count": 6,
   "id": "26a9bdeb",
   "metadata": {},
   "outputs": [],
   "source": [
    "def computeCost(theta, X, y, regLambda):\n",
    "    '''\n",
    "    Computes the objective function\n",
    "    Arguments:\n",
    "        theta is d-dimensional numpy vector\n",
    "        X is a n-by-d numpy matrix\n",
    "        y is an n-dimensional numpy vector\n",
    "        regLambda is the scalar regularization constant\n",
    "    Returns:\n",
    "        a scalar value of the cost  ** make certain you're not returning a 1 x 1 matrix! **\n",
    "    '''\n",
    "    \n",
    "    m, n = X.shape\n",
    "    loss = None\n",
    "    ### START CODE HERE ###\n",
    "    h = sigmoid((-np.dot(X, theta)))\n",
    "    epsilon = 1e-5  # small constant\n",
    "    loss = - np.sum(y * np.log(h + epsilon) + (1 - y) * np.log(1 - h + epsilon))\n",
    "\n",
    "\n",
    "    regTerm = (regLambda /2) * np.sum(np.square(theta))\n",
    "    loss = loss + regTerm\n",
    "\n",
    "    ### END CODE HERE ###\n",
    "    return loss"
   ]
  },
  {
   "cell_type": "markdown",
   "id": "6eaf1146",
   "metadata": {},
   "source": [
    "### Gradient of the Cost Function\n",
    "Now, we want to calculate the gradient of the cost function. The gradient of the cost function is a d-dimensional vector.\\\n",
    "We must be careful not to regularize the $\\theta_0$ parameter (corresponding to the first feature we add to each instance), and so the 0's element is given by:\n",
    "$$\n",
    "\\frac{\\partial \\mathcal{J}(\\theta)}{\\partial \\theta_0} = \\sum_{i=1}^n (\\mathcal{h}_\\theta(\\mathbf{x}^{(i)})-y^{(i)})\n",
    "$$\n",
    "\n",
    "Question: What is the answer to this problem for the $j^{th}$ element (for $j=1...d$)?\n",
    "\n",
    "Answer: $$\n",
    "\\frac{\\partial \\mathcal{J}(\\theta)}{\\partial \\theta_j} = \\sum_{i=1}^n (\\mathcal{h}_\\theta(\\mathbf{x}^{(i)})-y^{(i)})x_j^{(i)} + \\lambda \\theta_j\n",
    "$$"
   ]
  },
  {
   "cell_type": "code",
   "execution_count": 7,
   "id": "35f7c2dd",
   "metadata": {},
   "outputs": [],
   "source": [
    "def computeGradient(theta, X, y, regLambda):\n",
    "    '''\n",
    "    Computes the gradient of the objective function\n",
    "    Arguments:\n",
    "        theta is d-dimensional numpy vector\n",
    "        X is a n-by-d numpy matrix\n",
    "        y is an n-dimensional numpy vector\n",
    "        regLambda is the scalar regularization constant\n",
    "    Returns:\n",
    "        the gradient, an d-dimensional vector\n",
    "    '''\n",
    "    \n",
    "    m, n = X.shape\n",
    "    grad = np.zeros(theta.shape)\n",
    "    ### START CODE HERE ###\n",
    "    h = sigmoid(-np.dot(X, theta))\n",
    "\n",
    "    # Compute the gradient for theta_0\n",
    "    grad[0] = np.dot(X[:, 0].T, (h - y))\n",
    "\n",
    "    # Compute the gradient for the rest of the parameters\n",
    "    for j in range(1, n):\n",
    "        grad[j] = np.dot(X[:, j].T, (h - y)) + (regLambda) * theta[j]\n",
    "\n",
    "    ### END CODE HERE ###\n",
    "    return grad\n"
   ]
  },
  {
   "cell_type": "markdown",
   "id": "24bc86bd",
   "metadata": {},
   "source": [
    "### Training and Prediction\n",
    "Once you have the cost and gradient functions complete, implement the fit and predict methods.\\\n",
    "Your fit method should train the model via gradient descent, relying on the cost and gradient functions. This function should return two parameters. The first parameter is $\\theta$, and the second parameter is a `numpy` array that contains the loss in each iteration. This array is indicated by `loss_history` in the code.\\\n",
    "Instead of simply running gradient descent for a specific number of iterations, we will use a more sophisticated method: we will stop it after the solution hasconverged. Stop the gradient descent procedure when $\\theta$ stops changing between consecutive iterations. You can detect this convergence when:\n",
    "$$\n",
    "||\\theta_{new}-\\theta_{old}||_2 <= \\epsilon,\n",
    "$$\n",
    "for some small $\\epsilon$ (e.g, $\\epsilon=10E-4$).\\\n",
    "For readability, we’d recommend implementing this convergence test as a dedicated function `hasConverged`."
   ]
  },
  {
   "cell_type": "code",
   "execution_count": 8,
   "id": "cc0cad78",
   "metadata": {},
   "outputs": [],
   "source": [
    "def fit(X, y, regLambda = 0.01, alpha = 0.01, epsilon = 1e-4, maxNumIters = 100):\n",
    "    '''\n",
    "    Trains the model\n",
    "    Arguments:\n",
    "        X           is a n-by-d numpy matrix\n",
    "        y           is an n-dimensional numpy vector\n",
    "        maxNumIters is the maximum number of gradient descent iterations\n",
    "        regLambda   is the scalar regularization constant\n",
    "        epsilon     is the convergence rate\n",
    "        alpha       is the gradient descent learning rate\n",
    "    '''\n",
    "    \n",
    "    m, n = X.shape\n",
    "    theta, loss_history = None, None \n",
    "    ### START CODE HERE ###\n",
    "    theta = np.zeros(n)  # n is the number of features\n",
    "    loss_history = []\n",
    "    for i in range(maxNumIters):\n",
    "        theta_old = theta\n",
    "        grad = computeGradient(theta_old, X, y, regLambda)\n",
    "        theta = theta_old - alpha * grad\n",
    "        loss = computeCost(theta, X, y, regLambda)\n",
    "        loss_history.append(loss)\n",
    "\n",
    "        if hasConverged(theta_old, theta, epsilon):\n",
    "            break\n",
    "\n",
    "    return theta, np.array(loss_history)\n",
    "    ### END CODE HERE ###\n",
    "    return theta, loss_history\n",
    "\n",
    "\n",
    "\n",
    "\n",
    "def hasConverged(theta_old, theta_new, epsilon):\n",
    "    '''\n",
    "    Return if the theta converged or not\n",
    "    Arguments:\n",
    "        theta_old   is the theta calculated in prevoius iteration\n",
    "        theta_new   is the theta calculated in current iteration\n",
    "        epsilon     is the convergence rate\n",
    "    '''\n",
    "    \n",
    "    ### START CODE HERE ###\n",
    "    return np.linalg.norm(theta_new - theta_old) <= epsilon\n",
    "    ### END CODE HERE ###\n",
    "   # return False"
   ]
  },
  {
   "cell_type": "markdown",
   "id": "bb648852",
   "metadata": {},
   "source": [
    "Finally, we want to evaluate our loss for this problem. Complete the cell below to calculate and print the loss of each iteration and the final theta of your model."
   ]
  },
  {
   "cell_type": "code",
   "execution_count": 9,
   "id": "252e556f",
   "metadata": {},
   "outputs": [
    {
     "name": "stdout",
     "output_type": "stream",
     "text": [
      "Final theta: [ 3275.27969203 -4713.48889417  5436.28331964  1680.85244273]\n",
      "Iteration 1: Loss = 102466.77393680296\n",
      "Iteration 2: Loss = 110795.49469812447\n",
      "Iteration 3: Loss = 112458.18187239917\n",
      "Iteration 4: Loss = 113174.68408118038\n",
      "Iteration 5: Loss = 113667.5676660508\n",
      "Iteration 6: Loss = 114124.83092264619\n",
      "Iteration 7: Loss = 114597.15371406177\n",
      "Iteration 8: Loss = 115107.33572759597\n",
      "Iteration 9: Loss = 115668.21016041607\n",
      "Iteration 10: Loss = 116285.8496423372\n",
      "Iteration 11: Loss = 116963.42118431846\n",
      "Iteration 12: Loss = 117702.8594863776\n",
      "Iteration 13: Loss = 118505.54543007712\n",
      "Iteration 14: Loss = 119372.46331598677\n",
      "Iteration 15: Loss = 120304.31189684011\n",
      "Iteration 16: Loss = 121301.60889859391\n",
      "Iteration 17: Loss = 122364.70067963563\n",
      "Iteration 18: Loss = 123493.77709839217\n",
      "Iteration 19: Loss = 124688.90355995548\n",
      "Iteration 20: Loss = 125950.06249335031\n",
      "Iteration 21: Loss = 127277.19564057054\n",
      "Iteration 22: Loss = 128670.25058141188\n",
      "Iteration 23: Loss = 130129.22126758334\n",
      "Iteration 24: Loss = 131654.1302378918\n",
      "Iteration 25: Loss = 133244.99959779409\n",
      "Iteration 26: Loss = 134901.8438221362\n",
      "Iteration 27: Loss = 136624.67111148444\n",
      "Iteration 28: Loss = 138413.4862716651\n",
      "Iteration 29: Loss = 140268.29386426212\n",
      "Iteration 30: Loss = 142189.09897896135\n",
      "Iteration 31: Loss = 144175.90431942436\n",
      "Iteration 32: Loss = 146228.70622226797\n",
      "Iteration 33: Loss = 148347.494403102\n",
      "Iteration 34: Loss = 150532.25686169777\n",
      "Iteration 35: Loss = 152782.9852252556\n",
      "Iteration 36: Loss = 155099.67472238227\n",
      "Iteration 37: Loss = 157482.31793665182\n",
      "Iteration 38: Loss = 159930.89836963668\n",
      "Iteration 39: Loss = 162445.39136034896\n",
      "Iteration 40: Loss = 165025.77070723497\n",
      "Iteration 41: Loss = 167672.01338058076\n",
      "Iteration 42: Loss = 170384.10015007292\n",
      "Iteration 43: Loss = 173162.01445419207\n",
      "Iteration 44: Loss = 176005.74127168124\n",
      "Iteration 45: Loss = 178915.2664150978\n",
      "Iteration 46: Loss = 181890.57615763904\n",
      "Iteration 47: Loss = 184931.6570471085\n",
      "Iteration 48: Loss = 188038.49580422317\n",
      "Iteration 49: Loss = 191211.07923992194\n",
      "Iteration 50: Loss = 194449.3941468613\n",
      "Iteration 51: Loss = 197753.42713755125\n",
      "Iteration 52: Loss = 201123.16443321077\n",
      "Iteration 53: Loss = 204558.5916588072\n",
      "Iteration 54: Loss = 208059.6937430348\n",
      "Iteration 55: Loss = 211626.4549994885\n",
      "Iteration 56: Loss = 215258.85935034428\n",
      "Iteration 57: Loss = 218956.8905177951\n",
      "Iteration 58: Loss = 222720.53198230494\n",
      "Iteration 59: Loss = 226549.76665490086\n",
      "Iteration 60: Loss = 230444.57645437884\n",
      "Iteration 61: Loss = 234404.942125278\n",
      "Iteration 62: Loss = 238430.84351293783\n",
      "Iteration 63: Loss = 242522.26020053652\n",
      "Iteration 64: Loss = 246679.17220064206\n",
      "Iteration 65: Loss = 250901.56044778676\n",
      "Iteration 66: Loss = 255189.40703138825\n",
      "Iteration 67: Loss = 259542.69524451112\n",
      "Iteration 68: Loss = 263961.40954978595\n",
      "Iteration 69: Loss = 268445.5355309596\n",
      "Iteration 70: Loss = 272995.0598608954\n",
      "Iteration 71: Loss = 277609.9702955909\n",
      "Iteration 72: Loss = 282290.2556976619\n",
      "Iteration 73: Loss = 287035.9060888084\n",
      "Iteration 74: Loss = 291846.91270655417\n",
      "Iteration 75: Loss = 296723.26796847\n",
      "Iteration 76: Loss = 301664.96512083104\n",
      "Iteration 77: Loss = 306671.9972510553\n",
      "Iteration 78: Loss = 311744.35551095434\n",
      "Iteration 79: Loss = 316882.0270428625\n",
      "Iteration 80: Loss = 322084.9938344953\n",
      "Iteration 81: Loss = 327353.23350525537\n",
      "Iteration 82: Loss = 332686.7216570981\n",
      "Iteration 83: Loss = 338085.43438728753\n",
      "Iteration 84: Loss = 343549.3498894181\n",
      "Iteration 85: Loss = 349078.4489789717\n",
      "Iteration 86: Loss = 354672.71485938446\n",
      "Iteration 87: Loss = 360332.13242549443\n",
      "Iteration 88: Loss = 366056.687263107\n",
      "Iteration 89: Loss = 371846.364496343\n",
      "Iteration 90: Loss = 377701.14776511764\n",
      "Iteration 91: Loss = 383621.018700023\n",
      "Iteration 92: Loss = 389605.95709961536\n",
      "Iteration 93: Loss = 395655.94165349193\n",
      "Iteration 94: Loss = 401770.95079967246\n",
      "Iteration 95: Loss = 407950.96335598757\n",
      "Iteration 96: Loss = 414195.95879998605\n",
      "Iteration 97: Loss = 420505.91726317076\n",
      "Iteration 98: Loss = 426880.81936728524\n",
      "Iteration 99: Loss = 433320.6460088426\n",
      "Iteration 100: Loss = 439825.37815852056\n"
     ]
    }
   ],
   "source": [
    "theta, loss_history = fit(X, Y) # calculating theta and loss of each iteration\n",
    "\n",
    "### START CODE HERE ###\n",
    "\n",
    "# print the final theta\n",
    "print(\"Final theta:\", theta)\n",
    "\n",
    "# print the loss of each iteration\n",
    "for i, loss in enumerate(loss_history):\n",
    "    print(f\"Iteration {i+1}: Loss = {loss}\")\n",
    "\n",
    "### END CODE HERE ###"
   ]
  },
  {
   "cell_type": "markdown",
   "id": "f4b3fab6",
   "metadata": {},
   "source": [
    "### Testing Your Implementation\n",
    "To test your logistic regression implementation, first you should use `train_test_split` function to split dataset into three parts:\n",
    "\n",
    "- 70% for the training set\n",
    "- 20% for the validation set\n",
    "- 10% for the test set\n",
    "\n",
    "Do this in the cell below."
   ]
  },
  {
   "cell_type": "code",
   "execution_count": 10,
   "id": "4518fe11",
   "metadata": {},
   "outputs": [],
   "source": [
    "X_train, Y_train, X_val, Y_val, X_test, Y_test = None, None, None, None, None, None\n",
    "\n",
    "### START CODE HERE ###\n",
    "\n",
    "# First, split the data into training set and temporary set using 70:30 ratio\n",
    "X_temp, X_test, Y_temp, Y_test = train_test_split(X, Y, test_size=0.3, random_state=42)\n",
    "\n",
    "# Then, split the temporary set into validation set and test set using 66:33 ratio\n",
    "# This will result in 20% validation set and 10% test set\n",
    "X_train, X_val, Y_train, Y_val = train_test_split(X_temp, Y_temp, test_size=0.33, random_state=42)\n",
    "### END CODE HERE ###"
   ]
  },
  {
   "cell_type": "markdown",
   "id": "f9fbe5d7",
   "metadata": {},
   "source": [
    "Then, you should complete `predict` function to find the weight vector and the loss on the test data."
   ]
  },
  {
   "cell_type": "code",
   "execution_count": 11,
   "id": "95c2fe20",
   "metadata": {},
   "outputs": [],
   "source": [
    "def predict(X, theta):\n",
    "    '''\n",
    "    Use the model to predict values for each instance in X\n",
    "    Arguments:\n",
    "        theta is d-dimensional numpy vector\n",
    "        X     is a n-by-d numpy matrix\n",
    "    Returns:\n",
    "        an n-dimensional numpy vector of the predictions, the output should be binary (use h_theta > .5)\n",
    "    '''\n",
    "    \n",
    "    Y = None\n",
    "    ### START CODE HERE ###\n",
    "    h = sigmoid(-np.dot(X, theta))\n",
    "\n",
    "    # Convert to binary output\n",
    "    Y = (h > 0.5).astype(int)\n",
    "\n",
    "    ### END CODE HERE ###\n",
    "    return Y"
   ]
  },
  {
   "cell_type": "markdown",
   "id": "246d1c02",
   "metadata": {},
   "source": [
    "Now, run the `fit` and `predict` function for different values of the learning rate and regularization constant. Plot the `loss_history` of these different values for train and test data both in the same figure.\n",
    "\n",
    "**Question**: Discuss the effect of the learning rate and regularization constant and find the best values of these parameters.\n",
    "\n",
    "**Answer**:"
   ]
  },
  {
   "cell_type": "code",
   "execution_count": 12,
   "id": "cd2af382",
   "metadata": {},
   "outputs": [
    {
     "data": {
      "image/png": "[encoded data removed]",
      "text/plain": [
       "<Figure size 1000x600 with 1 Axes>"
      ]
     },
     "metadata": {},
     "output_type": "display_data"
    }
   ],
   "source": [
    "### START CODE HERE ###\n",
    "\n",
    "# Define the learning rates and regularization constants\n",
    "learning_rates = [0.01, 0.05, 0.1]\n",
    "reg_constants = [0.01, 0.1, 1]\n",
    "\n",
    "# Initialize a figure\n",
    "plt.figure(figsize=(10, 6))\n",
    "\n",
    "# Loop over the learning rates and regularization constants\n",
    "for alpha in learning_rates:\n",
    "    for regLambda in reg_constants:\n",
    "        # Train the model and get the loss history\n",
    "        theta, loss_history = fit(X_train, Y_train, regLambda=regLambda, alpha=alpha)\n",
    "\n",
    "        # Predict the labels for the test data\n",
    "        Y_pred = predict(X_test, theta)\n",
    "\n",
    "        # Compute the loss for the test data\n",
    "        test_loss = computeCost(theta, X_test, Y_test, regLambda)\n",
    "\n",
    "        # Plot the loss history\n",
    "        plt.plot(loss_history, label=f'alpha={alpha}, lambda={regLambda}, test loss={test_loss:.2f}')\n",
    "\n",
    "# Add labels and legend to the plot\n",
    "plt.xlabel('Iteration')\n",
    "plt.ylabel('Loss')\n",
    "plt.legend()\n",
    "\n",
    "# Show the plot\n",
    "plt.show()\n",
    "\n",
    "### END CODE HERE ###"
   ]
  },
  {
   "cell_type": "markdown",
   "id": "11babf15",
   "metadata": {},
   "source": [
    "## Naive Bayes\n",
    "\n",
    "In this part, you will use the `GaussianNB` classifier to classify the data. You should not change the default parameters of this classifier. First, train the classifier on the training set and then find the accuracy of it on the test set.\n",
    "\n",
    "**Question**: What is the accuracy of this method on test set?\n",
    "\n",
    "**Answer**: 93.87%"
   ]
  },
  {
   "cell_type": "code",
   "execution_count": 13,
   "id": "1ef450fb",
   "metadata": {},
   "outputs": [
    {
     "name": "stdout",
     "output_type": "stream",
     "text": [
      "Accuracy: 93.87%\n"
     ]
    }
   ],
   "source": [
    "### START CODE HERE ###\n",
    "\n",
    "# Initialize the GaussianNB classifier\n",
    "clf = GaussianNB()\n",
    "\n",
    "# Train the classifier on the training set\n",
    "clf.fit(X_train, Y_train)\n",
    "\n",
    "# Predict the labels for the test data\n",
    "Y_pred = clf.predict(X_test)\n",
    "\n",
    "# Compute the accuracy of the classifier on the test data\n",
    "accuracy = accuracy_score(Y_test, Y_pred)\n",
    "\n",
    "# Print the accuracy\n",
    "print(f\"Accuracy: {accuracy * 100:.2f}%\")\n",
    "\n",
    "### END CODE HERE ###"
   ]
  },
  {
   "cell_type": "markdown",
   "id": "b371657d",
   "metadata": {},
   "source": [
    "## LDA (Linear Discriminant Analysis)\n",
    "\n",
    "In this part, you will use the `LinearDiscriminantAnalysis` classifier to classify the data. You should not change the default parameters of this classifier. First, train the classifier on the training set and then find the accuracy of it on the test set.\n",
    "\n",
    "**Question**: What is the accuracy of this method on test set?\n",
    "\n",
    "**Answer**: 98.93%"
   ]
  },
  {
   "cell_type": "code",
   "execution_count": 14,
   "id": "92cc8743",
   "metadata": {},
   "outputs": [
    {
     "name": "stdout",
     "output_type": "stream",
     "text": [
      "Accuracy: 98.93%\n"
     ]
    }
   ],
   "source": [
    "# Initialize the LinearDiscriminantAnalysis classifier\n",
    "clf = LinearDiscriminantAnalysis()\n",
    "\n",
    "# Train the classifier on the training set\n",
    "clf.fit(X_train, Y_train)\n",
    "\n",
    "# Predict the labels for the test data\n",
    "Y_pred = clf.predict(X_test)\n",
    "\n",
    "# Compute the accuracy of the classifier on the test data\n",
    "accuracy = accuracy_score(Y_test, Y_pred)\n",
    "\n",
    "# Print the accuracy\n",
    "print(f\"Accuracy: {accuracy * 100:.2f}%\")\n"
   ]
  },
  {
   "cell_type": "markdown",
   "id": "47736bdf",
   "metadata": {},
   "source": [
    "## Conclusion\n",
    "\n",
    "**Question**: What is the best method for classifying this dataset? What is the best accuracy on the test set?\n",
    "\n",
    "**Answer**: LDA is better for this dataset, as the features do not seem to be independant. The best accuracy is 98.93%."
   ]
  },
  {
   "cell_type": "code",
   "execution_count": null,
   "id": "daead627",
   "metadata": {},
   "outputs": [],
   "source": []
  }
 ],
 "metadata": {
  "kernelspec": {
   "display_name": "Python 3 (ipykernel)",
   "language": "python",
   "name": "python3"
  },
  "language_info": {
   "codemirror_mode": {
    "name": "ipython",
    "version": 3
   },
   "file_extension": ".py",
   "mimetype": "text/x-python",
   "name": "python",
   "nbconvert_exporter": "python",
   "pygments_lexer": "ipython3",
   "version": "3.10.9"
  }
 },
 "nbformat": 4,
 "nbformat_minor": 5
}
